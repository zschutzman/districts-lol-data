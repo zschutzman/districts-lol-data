{
 "cells": [
  {
   "cell_type": "code",
   "execution_count": 14,
   "metadata": {},
   "outputs": [],
   "source": [
    "import os\n",
    "\n",
    "to_process = [f for f in os.listdir(\"_data/hot-or-not/raw/\") if f[:3] == 'dat']\n",
    "\n",
    "\n",
    "with open(\"_data/hot-or-not/votes.csv\",'a') as fd:\n",
    "    \n",
    "    for fn in to_process:\n",
    "        with open(\"_data/hot-or-not/raw/\" + fn,'r') as f:\n",
    "            l = f.read()\n",
    "        fd.write(l)\n",
    "\n",
    "\n",
    "\n",
    "\n",
    "    \n",
    "\n",
    "\n",
    "\n",
    "\n",
    "\n",
    "d = dict()\n",
    "\n",
    "with open(\"_data/hot-or-not/votes.csv\",'r') as fd:\n",
    "    for l in fd.readlines():\n",
    "        r = (l.strip().split(', '))\n",
    "        if len(r) == 2:\n",
    "            if r[0] not in d.keys():\n",
    "                d[r[0]] = [0,0]\n",
    "            if 'hot' in r[1]:\n",
    "                d[r[0]][0] += 1\n",
    "            else:\n",
    "                d[r[0]][1] += 1\n",
    "\n",
    "with open(\"_data/hot-or-not/aggregate.csv\",'w') as fd:\n",
    "    fd.write(\"district, hot, not\\n\")\n",
    "    for k,v in d.items():\n",
    "        s = f\"{k}, {v[0]}, {v[1]}\\n\"\n",
    "        fd.write(s)\n",
    "    "
   ]
  },
  {
   "cell_type": "code",
   "execution_count": 34,
   "metadata": {},
   "outputs": [],
   "source": []
  },
  {
   "cell_type": "code",
   "execution_count": null,
   "metadata": {},
   "outputs": [],
   "source": []
  }
 ],
 "metadata": {
  "kernelspec": {
   "display_name": "Python 3",
   "language": "python",
   "name": "python3"
  },
  "language_info": {
   "codemirror_mode": {
    "name": "ipython",
    "version": 3
   },
   "file_extension": ".py",
   "mimetype": "text/x-python",
   "name": "python",
   "nbconvert_exporter": "python",
   "pygments_lexer": "ipython3",
   "version": "3.8.2"
  }
 },
 "nbformat": 4,
 "nbformat_minor": 4
}
